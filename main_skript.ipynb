{
 "cells": [
  {
   "cell_type": "code",
   "execution_count": 1,
   "id": "identified-charles",
   "metadata": {},
   "outputs": [],
   "source": [
    "#import\n",
    "\n",
    "import numpy as np\n",
    "import matplotlib.pyplot as plt\n",
    "import os\n",
    "import rasterio\n",
    "from pathlib import Path                                    #Alternative zum OS für Pfade\n",
    "from pprint import pprint as pp\n",
    "from sklearn.ensemble import RandomForestClassifier as RF   #Random Forest Klassifikator\n",
    "from sklearn.model_selection import train_test_split        #Für Einteilung des Datensatzes in Trainings- und Validierungsdatensatzes\n",
    "from sklearn.metrics import plot_confusion_matrix           #\n"
   ]
  },
  {
   "cell_type": "code",
   "execution_count": 2,
   "id": "miniature-retention",
   "metadata": {},
   "outputs": [],
   "source": [
    "# Pfade für die Umgebung Setzen!\n",
    "\n",
    "dirname = \"D:\\_Programmieren\\Landcover\"\n",
    "bands_0_2m = []\n",
    "path_rgb_img = Path(os.path.join(dirname, 'RGB\\\\2018_t'))\n",
    "path_cir_img = Path(os.path.join(dirname, 'CIR_all\\\\2018_t'))\n",
    "path_ortho = Path(os.path.join(dirname, 'RGB\\\\2018_t\\\\2121-34_201807.tif'))\n",
    "path_cir = Path(os.path.join(dirname, 'CIR_all\\\\2018_t\\\\2121-34_201807.tif'))\n",
    "\n",
    "path_mask_poly = os.path.join(dirname, 'MaskData\\\\mask_poly.shp')\n",
    "path_raster_mask = os.path.join(dirname, 'MaskData/maske_raster_g.tif')\n"
   ]
  },
  {
   "cell_type": "code",
   "execution_count": 3,
   "id": "angry-device",
   "metadata": {},
   "outputs": [
    {
     "name": "stdout",
     "output_type": "stream",
     "text": [
      "gdal_rasterize -a Kategorie -of GTiff -te 51250 205000 60000 214000 -tr 0.2 0.2 -a_nodata -1 -ot Int16 D:\\_Programmieren\\Landcover\\MaskData\\mask_poly.shp D:\\_Programmieren\\Landcover\\MaskData/maske_raster_g.tif\n"
     ]
    },
    {
     "data": {
      "text/plain": [
       "0"
      ]
     },
     "execution_count": 3,
     "metadata": {},
     "output_type": "execute_result"
    }
   ],
   "source": [
    "# # rasterize training and test data (nur beim ersten mal notwendig)\n",
    "\n",
    "# xmin, ymin, xmax, ymax = 51250, 205000, 60000, 214000\n",
    "# res = 0.2\n",
    "# datatype_out = \"Int16\"\n",
    "# burn_field = \"Kategorie\"\n",
    "# nodata = \"-1\"\n",
    "\n",
    "# training_vector = path_mask_poly\n",
    "# training_raster = path_raster_mask\n",
    "\n",
    "# cmd = f\"gdal_rasterize -a {burn_field} -of GTiff -te {xmin} {ymin} {xmax} {ymax} -tr {res} {res} -a_nodata {nodata} -ot {datatype_out} {training_vector} {training_raster}\"\n",
    "# print(cmd)\n",
    "\n",
    "# os.system(cmd)\n",
    "\n"
   ]
  },
  {
   "cell_type": "code",
   "execution_count": 3,
   "id": "religious-broadcasting",
   "metadata": {},
   "outputs": [],
   "source": [
    "############## Hilfsfunktion zum Rastereinlesen ####################\n",
    "\n",
    "def read_img(path_to_img):\n",
    "    with rasterio.open(path_to_img, \"r\") as img:\n",
    "        return img.read(1).astype(np.float32)\n",
    "\n",
    "def ortho_to_3bands(path_to_img):\n",
    "    with rasterio.open(path_to_img, \"r\") as img:\n",
    "        return img.read(1).astype(np.float32),img.read(2).astype(np.float32),img.read(3).astype(np.float32)\n",
    " "
   ]
  },
  {
   "cell_type": "code",
   "execution_count": 4,
   "id": "novel-moisture",
   "metadata": {},
   "outputs": [
    {
     "name": "stdout",
     "output_type": "stream",
     "text": [
      "(45000, 43750, 3)\n"
     ]
    }
   ],
   "source": [
    "##################### Bänder Einlesen #####################\n",
    "bands = []\n",
    "for f in path_rgb_img.glob(\"*tif\"):\n",
    "    #print(f) #sollte hier alle benötigten Bänder ausdrücke werden\n",
    "    bands.append(ortho_to_3bands(f)[0])\n",
    "    bands.append(ortho_to_3bands(f)[1])\n",
    "    bands.append(ortho_to_3bands(f)[2])\n",
    "\n",
    "# for f in path_cir_img.glob(\"*tif\"):\n",
    "#     #print(f) #sollte hier alle benötigten Bänder ausdrücke werden\n",
    "#     bands.append(ortho_to_3bands(f)[0])\n",
    "#     bands.append(ortho_to_3bands(f)[1])\n",
    "#     bands.append(ortho_to_3bands(f)[2])\n",
    "#print(bands)\n",
    "#Stapelt Bänder\n",
    "bands = np.dstack(bands)\n",
    "print(bands.shape) #  Gibt Reihen, Spalten, Kanäle aus."
   ]
  },
  {
   "cell_type": "code",
   "execution_count": 5,
   "id": "quantitative-shark",
   "metadata": {},
   "outputs": [
    {
     "name": "stdout",
     "output_type": "stream",
     "text": [
      "(45000, 43750)\n",
      "(array([-1.,  0.,  1.,  2.,  3.,  4.,  5.], dtype=float32), array([1937371357,    2467200,    8815037,    5821140,   14164975,\n",
      "            19048,      91243], dtype=int64))\n",
      "(31378643,)\n"
     ]
    }
   ],
   "source": [
    "# read training/test data\n",
    "# just for reference\n",
    "mapping = {\n",
    "    0: \"Wiese\",\n",
    "    1: \"Wald\",\n",
    "    2: \"Fels\",\n",
    "    3: \"Schnee und Eis\",\n",
    "    4: \"Straße\",\n",
    "    5: \"Wasser\"\n",
    "}\n",
    "labels = read_img(path_raster_mask)\n",
    "\n",
    "print(labels.shape)\n",
    "print(np.unique(labels, return_counts=True))\n",
    "\n",
    "\n",
    "# reshape training test data \n",
    "labels_1d = labels[labels>=0].reshape((-1))\n",
    "print(labels_1d.shape)\n",
    "\n",
    "\n",
    "# split into \n",
    "X_train, X_test, y_train, y_test = train_test_split(bands[labels>=0,:], labels_1d, test_size=0.3, random_state=0, shuffle=True)\n",
    "\n"
   ]
  },
  {
   "cell_type": "code",
   "execution_count": 7,
   "id": "corporate-brook",
   "metadata": {},
   "outputs": [
    {
     "name": "stdout",
     "output_type": "stream",
     "text": [
      "training model...\n"
     ]
    },
    {
     "name": "stderr",
     "output_type": "stream",
     "text": [
      "C:\\Users\\ronny\\.conda\\envs\\rs\\lib\\site-packages\\sklearn\\ensemble\\_forest.py:541: UserWarning: Some inputs do not have OOB scores. This probably means too few trees were used to compute any reliable oob estimates.\n",
      "  warn(\"Some inputs do not have OOB scores. \"\n",
      "C:\\Users\\ronny\\.conda\\envs\\rs\\lib\\site-packages\\sklearn\\ensemble\\_forest.py:546: RuntimeWarning: invalid value encountered in true_divide\n",
      "  predictions[k].sum(axis=1)[:, np.newaxis])\n"
     ]
    },
    {
     "name": "stdout",
     "output_type": "stream",
     "text": [
      "model trained ... \n",
      "####################### D:\\_Programmieren\\Landcover\\RGB\\2018\\2121-02_201807.tif\n",
      "2121-02_201807\n",
      "(5000, 6250, 3)\n",
      "Estimators: 10 done.\n",
      "####################### D:\\_Programmieren\\Landcover\\RGB\\2018\\2121-03_201807.tif\n",
      "2121-03_201807\n",
      "(5000, 6250, 3)\n",
      "Estimators: 10 done.\n",
      "####################### D:\\_Programmieren\\Landcover\\RGB\\2018\\2121-04_201807.tif\n",
      "2121-04_201807\n",
      "(5000, 6250, 3)\n",
      "Estimators: 10 done.\n",
      "####################### D:\\_Programmieren\\Landcover\\RGB\\2018\\2121-05_201807.tif\n",
      "2121-05_201807\n",
      "(5000, 6250, 3)\n",
      "Estimators: 10 done.\n",
      "####################### D:\\_Programmieren\\Landcover\\RGB\\2018\\2121-06_201807.tif\n",
      "2121-06_201807\n",
      "(5000, 6250, 3)\n",
      "Estimators: 10 done.\n",
      "####################### D:\\_Programmieren\\Landcover\\RGB\\2018\\2121-07_201807.tif\n",
      "2121-07_201807\n",
      "(5000, 6250, 3)\n",
      "Estimators: 10 done.\n",
      "####################### D:\\_Programmieren\\Landcover\\RGB\\2018\\2121-08_201909.tif\n",
      "2121-08_201909\n",
      "(5000, 6250, 3)\n",
      "Estimators: 10 done.\n",
      "####################### D:\\_Programmieren\\Landcover\\RGB\\2018\\2121-10_201807.tif\n",
      "2121-10_201807\n",
      "(5000, 6250, 3)\n",
      "Estimators: 10 done.\n",
      "####################### D:\\_Programmieren\\Landcover\\RGB\\2018\\2121-11_201807.tif\n",
      "2121-11_201807\n",
      "(5000, 6250, 3)\n",
      "Estimators: 10 done.\n",
      "####################### D:\\_Programmieren\\Landcover\\RGB\\2018\\2121-12_201807.tif\n",
      "2121-12_201807\n",
      "(5000, 6250, 3)\n",
      "Estimators: 10 done.\n",
      "####################### D:\\_Programmieren\\Landcover\\RGB\\2018\\2121-13_201807.tif\n",
      "2121-13_201807\n",
      "(5000, 6250, 3)\n",
      "Estimators: 10 done.\n",
      "####################### D:\\_Programmieren\\Landcover\\RGB\\2018\\2121-14_201807.tif\n",
      "2121-14_201807\n",
      "(5000, 6250, 3)\n",
      "Estimators: 10 done.\n",
      "####################### D:\\_Programmieren\\Landcover\\RGB\\2018\\2121-15_201807.tif\n",
      "2121-15_201807\n",
      "(5000, 6250, 3)\n",
      "Estimators: 10 done.\n",
      "####################### D:\\_Programmieren\\Landcover\\RGB\\2018\\2121-16_201909.tif\n",
      "2121-16_201909\n",
      "(5000, 6250, 3)\n",
      "Estimators: 10 done.\n",
      "####################### D:\\_Programmieren\\Landcover\\RGB\\2018\\2121-18_201807.tif\n",
      "2121-18_201807\n",
      "(5000, 6250, 3)\n",
      "Estimators: 10 done.\n",
      "####################### D:\\_Programmieren\\Landcover\\RGB\\2018\\2121-19_201807.tif\n",
      "2121-19_201807\n",
      "(5000, 6250, 3)\n",
      "Estimators: 10 done.\n",
      "####################### D:\\_Programmieren\\Landcover\\RGB\\2018\\2121-20_201807.tif\n",
      "2121-20_201807\n",
      "(5000, 6250, 3)\n",
      "Estimators: 10 done.\n",
      "####################### D:\\_Programmieren\\Landcover\\RGB\\2018\\2121-21_201807.tif\n",
      "2121-21_201807\n",
      "(5000, 6250, 3)\n",
      "Estimators: 10 done.\n",
      "####################### D:\\_Programmieren\\Landcover\\RGB\\2018\\2121-22_201807.tif\n",
      "2121-22_201807\n",
      "(5000, 6250, 3)\n",
      "Estimators: 10 done.\n",
      "####################### D:\\_Programmieren\\Landcover\\RGB\\2018\\2121-23_201807.tif\n",
      "2121-23_201807\n",
      "(5000, 6250, 3)\n",
      "Estimators: 10 done.\n",
      "####################### D:\\_Programmieren\\Landcover\\RGB\\2018\\2121-24_201909.tif\n",
      "2121-24_201909\n",
      "(5000, 6250, 3)\n"
     ]
    },
    {
     "ename": "KeyboardInterrupt",
     "evalue": "",
     "output_type": "error",
     "traceback": [
      "\u001b[1;31m---------------------------------------------------------------------------\u001b[0m",
      "\u001b[1;31mKeyboardInterrupt\u001b[0m                         Traceback (most recent call last)",
      "\u001b[1;32m<ipython-input-7-fd5c3423eb84>\u001b[0m in \u001b[0;36m<module>\u001b[1;34m\u001b[0m\n\u001b[0;32m     45\u001b[0m \u001b[1;33m\u001b[0m\u001b[0m\n\u001b[0;32m     46\u001b[0m         \u001b[1;31m# apply our model on (unseen) data\u001b[0m\u001b[1;33m\u001b[0m\u001b[1;33m\u001b[0m\u001b[1;33m\u001b[0m\u001b[0m\n\u001b[1;32m---> 47\u001b[1;33m         \u001b[0my_pred\u001b[0m \u001b[1;33m=\u001b[0m \u001b[0mrf\u001b[0m\u001b[1;33m.\u001b[0m\u001b[0mpredict\u001b[0m\u001b[1;33m(\u001b[0m\u001b[0mX_predict\u001b[0m\u001b[1;33m)\u001b[0m\u001b[1;33m\u001b[0m\u001b[1;33m\u001b[0m\u001b[0m\n\u001b[0m\u001b[0;32m     48\u001b[0m \u001b[1;33m\u001b[0m\u001b[0m\n\u001b[0;32m     49\u001b[0m         \u001b[1;31m# reshape to shape of (rows, cols) for output as 2d gis raster\u001b[0m\u001b[1;33m\u001b[0m\u001b[1;33m\u001b[0m\u001b[1;33m\u001b[0m\u001b[0m\n",
      "\u001b[1;32m~\\.conda\\envs\\rs\\lib\\site-packages\\sklearn\\ensemble\\_forest.py\u001b[0m in \u001b[0;36mpredict\u001b[1;34m(self, X)\u001b[0m\n\u001b[0;32m    628\u001b[0m             \u001b[0mThe\u001b[0m \u001b[0mpredicted\u001b[0m \u001b[0mclasses\u001b[0m\u001b[1;33m.\u001b[0m\u001b[1;33m\u001b[0m\u001b[1;33m\u001b[0m\u001b[0m\n\u001b[0;32m    629\u001b[0m         \"\"\"\n\u001b[1;32m--> 630\u001b[1;33m         \u001b[0mproba\u001b[0m \u001b[1;33m=\u001b[0m \u001b[0mself\u001b[0m\u001b[1;33m.\u001b[0m\u001b[0mpredict_proba\u001b[0m\u001b[1;33m(\u001b[0m\u001b[0mX\u001b[0m\u001b[1;33m)\u001b[0m\u001b[1;33m\u001b[0m\u001b[1;33m\u001b[0m\u001b[0m\n\u001b[0m\u001b[0;32m    631\u001b[0m \u001b[1;33m\u001b[0m\u001b[0m\n\u001b[0;32m    632\u001b[0m         \u001b[1;32mif\u001b[0m \u001b[0mself\u001b[0m\u001b[1;33m.\u001b[0m\u001b[0mn_outputs_\u001b[0m \u001b[1;33m==\u001b[0m \u001b[1;36m1\u001b[0m\u001b[1;33m:\u001b[0m\u001b[1;33m\u001b[0m\u001b[1;33m\u001b[0m\u001b[0m\n",
      "\u001b[1;32m~\\.conda\\envs\\rs\\lib\\site-packages\\sklearn\\ensemble\\_forest.py\u001b[0m in \u001b[0;36mpredict_proba\u001b[1;34m(self, X)\u001b[0m\n\u001b[0;32m    685\u001b[0m             delayed(_accumulate_prediction)(e.predict_proba, X, all_proba,\n\u001b[0;32m    686\u001b[0m                                             lock)\n\u001b[1;32m--> 687\u001b[1;33m             for e in self.estimators_)\n\u001b[0m\u001b[0;32m    688\u001b[0m \u001b[1;33m\u001b[0m\u001b[0m\n\u001b[0;32m    689\u001b[0m         \u001b[1;32mfor\u001b[0m \u001b[0mproba\u001b[0m \u001b[1;32min\u001b[0m \u001b[0mall_proba\u001b[0m\u001b[1;33m:\u001b[0m\u001b[1;33m\u001b[0m\u001b[1;33m\u001b[0m\u001b[0m\n",
      "\u001b[1;32m~\\.conda\\envs\\rs\\lib\\site-packages\\joblib\\parallel.py\u001b[0m in \u001b[0;36m__call__\u001b[1;34m(self, iterable)\u001b[0m\n\u001b[0;32m   1052\u001b[0m \u001b[1;33m\u001b[0m\u001b[0m\n\u001b[0;32m   1053\u001b[0m             \u001b[1;32mwith\u001b[0m \u001b[0mself\u001b[0m\u001b[1;33m.\u001b[0m\u001b[0m_backend\u001b[0m\u001b[1;33m.\u001b[0m\u001b[0mretrieval_context\u001b[0m\u001b[1;33m(\u001b[0m\u001b[1;33m)\u001b[0m\u001b[1;33m:\u001b[0m\u001b[1;33m\u001b[0m\u001b[1;33m\u001b[0m\u001b[0m\n\u001b[1;32m-> 1054\u001b[1;33m                 \u001b[0mself\u001b[0m\u001b[1;33m.\u001b[0m\u001b[0mretrieve\u001b[0m\u001b[1;33m(\u001b[0m\u001b[1;33m)\u001b[0m\u001b[1;33m\u001b[0m\u001b[1;33m\u001b[0m\u001b[0m\n\u001b[0m\u001b[0;32m   1055\u001b[0m             \u001b[1;31m# Make sure that we get a last message telling us we are done\u001b[0m\u001b[1;33m\u001b[0m\u001b[1;33m\u001b[0m\u001b[1;33m\u001b[0m\u001b[0m\n\u001b[0;32m   1056\u001b[0m             \u001b[0melapsed_time\u001b[0m \u001b[1;33m=\u001b[0m \u001b[0mtime\u001b[0m\u001b[1;33m.\u001b[0m\u001b[0mtime\u001b[0m\u001b[1;33m(\u001b[0m\u001b[1;33m)\u001b[0m \u001b[1;33m-\u001b[0m \u001b[0mself\u001b[0m\u001b[1;33m.\u001b[0m\u001b[0m_start_time\u001b[0m\u001b[1;33m\u001b[0m\u001b[1;33m\u001b[0m\u001b[0m\n",
      "\u001b[1;32m~\\.conda\\envs\\rs\\lib\\site-packages\\joblib\\parallel.py\u001b[0m in \u001b[0;36mretrieve\u001b[1;34m(self)\u001b[0m\n\u001b[0;32m    931\u001b[0m             \u001b[1;32mtry\u001b[0m\u001b[1;33m:\u001b[0m\u001b[1;33m\u001b[0m\u001b[1;33m\u001b[0m\u001b[0m\n\u001b[0;32m    932\u001b[0m                 \u001b[1;32mif\u001b[0m \u001b[0mgetattr\u001b[0m\u001b[1;33m(\u001b[0m\u001b[0mself\u001b[0m\u001b[1;33m.\u001b[0m\u001b[0m_backend\u001b[0m\u001b[1;33m,\u001b[0m \u001b[1;34m'supports_timeout'\u001b[0m\u001b[1;33m,\u001b[0m \u001b[1;32mFalse\u001b[0m\u001b[1;33m)\u001b[0m\u001b[1;33m:\u001b[0m\u001b[1;33m\u001b[0m\u001b[1;33m\u001b[0m\u001b[0m\n\u001b[1;32m--> 933\u001b[1;33m                     \u001b[0mself\u001b[0m\u001b[1;33m.\u001b[0m\u001b[0m_output\u001b[0m\u001b[1;33m.\u001b[0m\u001b[0mextend\u001b[0m\u001b[1;33m(\u001b[0m\u001b[0mjob\u001b[0m\u001b[1;33m.\u001b[0m\u001b[0mget\u001b[0m\u001b[1;33m(\u001b[0m\u001b[0mtimeout\u001b[0m\u001b[1;33m=\u001b[0m\u001b[0mself\u001b[0m\u001b[1;33m.\u001b[0m\u001b[0mtimeout\u001b[0m\u001b[1;33m)\u001b[0m\u001b[1;33m)\u001b[0m\u001b[1;33m\u001b[0m\u001b[1;33m\u001b[0m\u001b[0m\n\u001b[0m\u001b[0;32m    934\u001b[0m                 \u001b[1;32melse\u001b[0m\u001b[1;33m:\u001b[0m\u001b[1;33m\u001b[0m\u001b[1;33m\u001b[0m\u001b[0m\n\u001b[0;32m    935\u001b[0m                     \u001b[0mself\u001b[0m\u001b[1;33m.\u001b[0m\u001b[0m_output\u001b[0m\u001b[1;33m.\u001b[0m\u001b[0mextend\u001b[0m\u001b[1;33m(\u001b[0m\u001b[0mjob\u001b[0m\u001b[1;33m.\u001b[0m\u001b[0mget\u001b[0m\u001b[1;33m(\u001b[0m\u001b[1;33m)\u001b[0m\u001b[1;33m)\u001b[0m\u001b[1;33m\u001b[0m\u001b[1;33m\u001b[0m\u001b[0m\n",
      "\u001b[1;32m~\\.conda\\envs\\rs\\lib\\multiprocessing\\pool.py\u001b[0m in \u001b[0;36mget\u001b[1;34m(self, timeout)\u001b[0m\n\u001b[0;32m    649\u001b[0m \u001b[1;33m\u001b[0m\u001b[0m\n\u001b[0;32m    650\u001b[0m     \u001b[1;32mdef\u001b[0m \u001b[0mget\u001b[0m\u001b[1;33m(\u001b[0m\u001b[0mself\u001b[0m\u001b[1;33m,\u001b[0m \u001b[0mtimeout\u001b[0m\u001b[1;33m=\u001b[0m\u001b[1;32mNone\u001b[0m\u001b[1;33m)\u001b[0m\u001b[1;33m:\u001b[0m\u001b[1;33m\u001b[0m\u001b[1;33m\u001b[0m\u001b[0m\n\u001b[1;32m--> 651\u001b[1;33m         \u001b[0mself\u001b[0m\u001b[1;33m.\u001b[0m\u001b[0mwait\u001b[0m\u001b[1;33m(\u001b[0m\u001b[0mtimeout\u001b[0m\u001b[1;33m)\u001b[0m\u001b[1;33m\u001b[0m\u001b[1;33m\u001b[0m\u001b[0m\n\u001b[0m\u001b[0;32m    652\u001b[0m         \u001b[1;32mif\u001b[0m \u001b[1;32mnot\u001b[0m \u001b[0mself\u001b[0m\u001b[1;33m.\u001b[0m\u001b[0mready\u001b[0m\u001b[1;33m(\u001b[0m\u001b[1;33m)\u001b[0m\u001b[1;33m:\u001b[0m\u001b[1;33m\u001b[0m\u001b[1;33m\u001b[0m\u001b[0m\n\u001b[0;32m    653\u001b[0m             \u001b[1;32mraise\u001b[0m \u001b[0mTimeoutError\u001b[0m\u001b[1;33m\u001b[0m\u001b[1;33m\u001b[0m\u001b[0m\n",
      "\u001b[1;32m~\\.conda\\envs\\rs\\lib\\multiprocessing\\pool.py\u001b[0m in \u001b[0;36mwait\u001b[1;34m(self, timeout)\u001b[0m\n\u001b[0;32m    646\u001b[0m \u001b[1;33m\u001b[0m\u001b[0m\n\u001b[0;32m    647\u001b[0m     \u001b[1;32mdef\u001b[0m \u001b[0mwait\u001b[0m\u001b[1;33m(\u001b[0m\u001b[0mself\u001b[0m\u001b[1;33m,\u001b[0m \u001b[0mtimeout\u001b[0m\u001b[1;33m=\u001b[0m\u001b[1;32mNone\u001b[0m\u001b[1;33m)\u001b[0m\u001b[1;33m:\u001b[0m\u001b[1;33m\u001b[0m\u001b[1;33m\u001b[0m\u001b[0m\n\u001b[1;32m--> 648\u001b[1;33m         \u001b[0mself\u001b[0m\u001b[1;33m.\u001b[0m\u001b[0m_event\u001b[0m\u001b[1;33m.\u001b[0m\u001b[0mwait\u001b[0m\u001b[1;33m(\u001b[0m\u001b[0mtimeout\u001b[0m\u001b[1;33m)\u001b[0m\u001b[1;33m\u001b[0m\u001b[1;33m\u001b[0m\u001b[0m\n\u001b[0m\u001b[0;32m    649\u001b[0m \u001b[1;33m\u001b[0m\u001b[0m\n\u001b[0;32m    650\u001b[0m     \u001b[1;32mdef\u001b[0m \u001b[0mget\u001b[0m\u001b[1;33m(\u001b[0m\u001b[0mself\u001b[0m\u001b[1;33m,\u001b[0m \u001b[0mtimeout\u001b[0m\u001b[1;33m=\u001b[0m\u001b[1;32mNone\u001b[0m\u001b[1;33m)\u001b[0m\u001b[1;33m:\u001b[0m\u001b[1;33m\u001b[0m\u001b[1;33m\u001b[0m\u001b[0m\n",
      "\u001b[1;32m~\\.conda\\envs\\rs\\lib\\threading.py\u001b[0m in \u001b[0;36mwait\u001b[1;34m(self, timeout)\u001b[0m\n\u001b[0;32m    550\u001b[0m             \u001b[0msignaled\u001b[0m \u001b[1;33m=\u001b[0m \u001b[0mself\u001b[0m\u001b[1;33m.\u001b[0m\u001b[0m_flag\u001b[0m\u001b[1;33m\u001b[0m\u001b[1;33m\u001b[0m\u001b[0m\n\u001b[0;32m    551\u001b[0m             \u001b[1;32mif\u001b[0m \u001b[1;32mnot\u001b[0m \u001b[0msignaled\u001b[0m\u001b[1;33m:\u001b[0m\u001b[1;33m\u001b[0m\u001b[1;33m\u001b[0m\u001b[0m\n\u001b[1;32m--> 552\u001b[1;33m                 \u001b[0msignaled\u001b[0m \u001b[1;33m=\u001b[0m \u001b[0mself\u001b[0m\u001b[1;33m.\u001b[0m\u001b[0m_cond\u001b[0m\u001b[1;33m.\u001b[0m\u001b[0mwait\u001b[0m\u001b[1;33m(\u001b[0m\u001b[0mtimeout\u001b[0m\u001b[1;33m)\u001b[0m\u001b[1;33m\u001b[0m\u001b[1;33m\u001b[0m\u001b[0m\n\u001b[0m\u001b[0;32m    553\u001b[0m             \u001b[1;32mreturn\u001b[0m \u001b[0msignaled\u001b[0m\u001b[1;33m\u001b[0m\u001b[1;33m\u001b[0m\u001b[0m\n\u001b[0;32m    554\u001b[0m \u001b[1;33m\u001b[0m\u001b[0m\n",
      "\u001b[1;32m~\\.conda\\envs\\rs\\lib\\threading.py\u001b[0m in \u001b[0;36mwait\u001b[1;34m(self, timeout)\u001b[0m\n\u001b[0;32m    294\u001b[0m         \u001b[1;32mtry\u001b[0m\u001b[1;33m:\u001b[0m    \u001b[1;31m# restore state no matter what (e.g., KeyboardInterrupt)\u001b[0m\u001b[1;33m\u001b[0m\u001b[1;33m\u001b[0m\u001b[0m\n\u001b[0;32m    295\u001b[0m             \u001b[1;32mif\u001b[0m \u001b[0mtimeout\u001b[0m \u001b[1;32mis\u001b[0m \u001b[1;32mNone\u001b[0m\u001b[1;33m:\u001b[0m\u001b[1;33m\u001b[0m\u001b[1;33m\u001b[0m\u001b[0m\n\u001b[1;32m--> 296\u001b[1;33m                 \u001b[0mwaiter\u001b[0m\u001b[1;33m.\u001b[0m\u001b[0macquire\u001b[0m\u001b[1;33m(\u001b[0m\u001b[1;33m)\u001b[0m\u001b[1;33m\u001b[0m\u001b[1;33m\u001b[0m\u001b[0m\n\u001b[0m\u001b[0;32m    297\u001b[0m                 \u001b[0mgotit\u001b[0m \u001b[1;33m=\u001b[0m \u001b[1;32mTrue\u001b[0m\u001b[1;33m\u001b[0m\u001b[1;33m\u001b[0m\u001b[0m\n\u001b[0;32m    298\u001b[0m             \u001b[1;32melse\u001b[0m\u001b[1;33m:\u001b[0m\u001b[1;33m\u001b[0m\u001b[1;33m\u001b[0m\u001b[0m\n",
      "\u001b[1;31mKeyboardInterrupt\u001b[0m: "
     ]
    }
   ],
   "source": [
    "# instantiate classificator\n",
    "estimatorList = [10] # Hier können mehr werte eingegeben werden um zu vergleichen \n",
    "for estimator in estimatorList:\n",
    "    \n",
    "    rf = RF(n_estimators=estimator, n_jobs=-1, oob_score=True)\n",
    "\n",
    "    # train our model\n",
    "    print(\"training model...\")\n",
    "    rf.fit(X_train, y_train)\n",
    "    print(\"model trained ... \")\n",
    "    #############################################################################\n",
    "    ################## Versuch auf fremden Daten anzuwenden #####################\n",
    "    #############################################################################\n",
    "    test_rgb_img = Path(os.path.join(dirname, 'RGB\\\\2018'))\n",
    "    test_cir_img = Path(os.path.join(dirname, 'CIR_all\\\\2018_v'))\n",
    "\n",
    "    for fObj in test_rgb_img.glob(\"*tif\"): #jede datei in besagtem ordner\n",
    "        print(\"#######################\",fObj)\n",
    "        print(Path(fObj).stem)\n",
    "        rgbP = str(test_rgb_img)+\"\\\\\"+str(Path(fObj).stem)+\".tif\"\n",
    "        cirP = str(test_cir_img)+\"\\\\\"+str(Path(fObj).stem)+\".tif\"\n",
    "        bandsTest = []\n",
    "        bandsTest.append(ortho_to_3bands(rgbP)[0])\n",
    "        bandsTest.append(ortho_to_3bands(rgbP)[1])\n",
    "        bandsTest.append(ortho_to_3bands(rgbP)[2])\n",
    "\n",
    "        #print(f) #sollte hier alle benötigten Bänder ausdrücke werden\n",
    "        # bandsTest.append(ortho_to_3bands(cirP)[0])\n",
    "        # bandsTest.append(ortho_to_3bands(cirP)[1])\n",
    "        # bandsTest.append(ortho_to_3bands(cirP)[2])\n",
    "        bandsTest = np.dstack(bandsTest)\n",
    "        print(bandsTest.shape)\n",
    "        #############################################################################\n",
    "        #############################################################################\n",
    "        #############################################################################\n",
    "\n",
    "        # extract information for reshaping\n",
    "        rows, cols, n_bands = bandsTest.shape\n",
    "        \n",
    "\n",
    "\n",
    "        # transform input data into 2d array of shape \n",
    "        X_predict = bandsTest.reshape((rows*cols, n_bands))\n",
    "\n",
    "\n",
    "        # apply our model on (unseen) data\n",
    "        y_pred = rf.predict(X_predict)\n",
    "\n",
    "        # reshape to shape of (rows, cols) for output as 2d gis raster\n",
    "        y_pred_2d = y_pred.reshape((rows, cols))\n",
    "\n",
    "\n",
    "        template = {}\n",
    "        with rasterio.open(fObj, \"r\") as img:\n",
    "            template[\"transform\"] = img.transform\n",
    "            template[\"crs\"] = img.crs\n",
    "            template[\"height\"] = img.height\n",
    "            template[\"width\"] = img.width\n",
    "\n",
    "        with rasterio.open(\n",
    "            dirname+\"\\\\results\\\\testMultiple\\\\prediction_nE_\"+str(estimator)+str(Path(fObj).stem)+\".tif\",\n",
    "            \"w\",\n",
    "            driver=\"GTiff\",\n",
    "            height=y_pred_2d.shape[0],\n",
    "            width=y_pred_2d.shape[1],\n",
    "            count=1,\n",
    "            dtype=y_pred_2d.dtype,\n",
    "            crs=template[\"crs\"],\n",
    "            transform=template[\"transform\"]) as fobj:\n",
    "            fobj.write(y_pred_2d, 1)\n",
    "        print(\"Estimators: \"+str(estimator)+\" done.\")\n",
    "print(\"Finished.\")"
   ]
  },
  {
   "cell_type": "code",
   "execution_count": null,
   "id": "owned-spirit",
   "metadata": {},
   "outputs": [],
   "source": []
  },
  {
   "cell_type": "code",
   "execution_count": null,
   "id": "homeless-wings",
   "metadata": {},
   "outputs": [],
   "source": []
  },
  {
   "cell_type": "code",
   "execution_count": null,
   "id": "stone-corruption",
   "metadata": {},
   "outputs": [],
   "source": []
  }
 ],
 "metadata": {
  "kernelspec": {
   "display_name": "Python 3",
   "language": "python",
   "name": "python3"
  },
  "language_info": {
   "codemirror_mode": {
    "name": "ipython",
    "version": 3
   },
   "file_extension": ".py",
   "mimetype": "text/x-python",
   "name": "python",
   "nbconvert_exporter": "python",
   "pygments_lexer": "ipython3",
   "version": "3.7.10"
  }
 },
 "nbformat": 4,
 "nbformat_minor": 5
}
