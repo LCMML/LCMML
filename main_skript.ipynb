{
 "cells": [
  {
   "cell_type": "code",
   "execution_count": 2,
   "id": "identified-charles",
   "metadata": {},
   "outputs": [],
   "source": [
    "#import\n",
    "\n",
    "import numpy as np\n",
    "import matplotlib.pyplot as plt\n",
    "import os\n",
    "import rasterio\n",
    "from pathlib import Path                                    #Alternative zum OS für Pfade\n",
    "from pprint import pprint as pp\n",
    "from sklearn.ensemble import RandomForestClassifier as RF   #Random Forest Klassifikator\n",
    "from sklearn.model_selection import train_test_split        #Für Einteilung des Datensatzes in Trainings- und Validierungsdatensatzes\n",
    "from sklearn.metrics import plot_confusion_matrix           #\n"
   ]
  },
  {
   "cell_type": "code",
   "execution_count": 13,
   "id": "miniature-retention",
   "metadata": {},
   "outputs": [],
   "source": [
    "# Pfade für die Umgebung Setzen!\n",
    "\n",
    "dirname = \"D:\\_Programmieren\\Landcover\"\n",
    "bands_0_2m = []\n",
    "path_rgb_img = Path(os.path.join(dirname, 'RGB\\\\2018_t'))\n",
    "path_cir_img = Path(os.path.join(dirname, 'CIR_all\\\\2018_t'))\n",
    "path_ortho = Path(os.path.join(dirname, 'RGB\\\\2018_t\\\\2121-34_201807.tif'))\n",
    "path_cir = Path(os.path.join(dirname, 'CIR_all\\\\2018_t\\\\2121-34_201807.tif'))\n",
    "\n",
    "path_mask_poly = os.path.join(dirname, 'MaskData\\\\mask_poly.shp')\n",
    "path_raster_mask = os.path.join(dirname, 'MaskData/maske_raster_g.tif')\n"
   ]
  },
  {
   "cell_type": "code",
   "execution_count": 14,
   "id": "angry-device",
   "metadata": {},
   "outputs": [],
   "source": [
    "# # rasterize training and test data (nur beim ersten mal notwendig)\n",
    "\n",
    "# xmin, ymin, xmax, ymax = 51250, 205000, 60000, 214000\n",
    "# res = 0.2\n",
    "# datatype_out = \"Int16\"\n",
    "# burn_field = \"Kategorie\"\n",
    "# nodata = \"-1\"\n",
    "\n",
    "# training_vector = path_mask_poly\n",
    "# training_raster = path_raster_mask\n",
    "\n",
    "# cmd = f\"gdal_rasterize -a {burn_field} -of GTiff -te {xmin} {ymin} {xmax} {ymax} -tr {res} {res} -a_nodata {nodata} -ot {datatype_out} {training_vector} {training_raster}\"\n",
    "# print(cmd)\n",
    "\n",
    "# os.system(cmd)\n",
    "\n"
   ]
  },
  {
   "cell_type": "code",
   "execution_count": 15,
   "id": "religious-broadcasting",
   "metadata": {},
   "outputs": [],
   "source": [
    "############## Hilfsfunktion zum Rastereinlesen ####################\n",
    "\n",
    "def read_img(path_to_img):\n",
    "    with rasterio.open(path_to_img, \"r\") as img:\n",
    "        return img.read(1).astype(np.float32)\n",
    "\n",
    "def ortho_to_3bands(path_to_img):\n",
    "    with rasterio.open(path_to_img, \"r\") as img:\n",
    "        return img.read(1).astype(np.float32),img.read(2).astype(np.float32),img.read(3).astype(np.float32)\n",
    " "
   ]
  },
  {
   "cell_type": "code",
   "execution_count": 18,
   "id": "novel-moisture",
   "metadata": {},
   "outputs": [
    {
     "ename": "MemoryError",
     "evalue": "Unable to allocate 7.33 GiB for an array with shape (45000, 43750) and data type float32",
     "output_type": "error",
     "traceback": [
      "\u001b[1;31m---------------------------------------------------------------------------\u001b[0m",
      "\u001b[1;31mMemoryError\u001b[0m                               Traceback (most recent call last)",
      "\u001b[1;32m<ipython-input-18-704c8aca7fa4>\u001b[0m in \u001b[0;36m<module>\u001b[1;34m\u001b[0m\n\u001b[0;32m      3\u001b[0m \u001b[1;32mfor\u001b[0m \u001b[0mf\u001b[0m \u001b[1;32min\u001b[0m \u001b[0mpath_rgb_img\u001b[0m\u001b[1;33m.\u001b[0m\u001b[0mglob\u001b[0m\u001b[1;33m(\u001b[0m\u001b[1;34m\"*tif\"\u001b[0m\u001b[1;33m)\u001b[0m\u001b[1;33m:\u001b[0m\u001b[1;33m\u001b[0m\u001b[1;33m\u001b[0m\u001b[0m\n\u001b[0;32m      4\u001b[0m     \u001b[1;31m#print(f) #sollte hier alle benötigten Bänder ausdrücke werden\u001b[0m\u001b[1;33m\u001b[0m\u001b[1;33m\u001b[0m\u001b[1;33m\u001b[0m\u001b[0m\n\u001b[1;32m----> 5\u001b[1;33m     \u001b[0mbands\u001b[0m\u001b[1;33m.\u001b[0m\u001b[0mappend\u001b[0m\u001b[1;33m(\u001b[0m\u001b[0mortho_to_3bands\u001b[0m\u001b[1;33m(\u001b[0m\u001b[0mf\u001b[0m\u001b[1;33m)\u001b[0m\u001b[1;33m[\u001b[0m\u001b[1;36m0\u001b[0m\u001b[1;33m]\u001b[0m\u001b[1;33m)\u001b[0m\u001b[1;33m\u001b[0m\u001b[1;33m\u001b[0m\u001b[0m\n\u001b[0m\u001b[0;32m      6\u001b[0m     \u001b[0mbands\u001b[0m\u001b[1;33m.\u001b[0m\u001b[0mappend\u001b[0m\u001b[1;33m(\u001b[0m\u001b[0mortho_to_3bands\u001b[0m\u001b[1;33m(\u001b[0m\u001b[0mf\u001b[0m\u001b[1;33m)\u001b[0m\u001b[1;33m[\u001b[0m\u001b[1;36m1\u001b[0m\u001b[1;33m]\u001b[0m\u001b[1;33m)\u001b[0m\u001b[1;33m\u001b[0m\u001b[1;33m\u001b[0m\u001b[0m\n\u001b[0;32m      7\u001b[0m     \u001b[0mbands\u001b[0m\u001b[1;33m.\u001b[0m\u001b[0mappend\u001b[0m\u001b[1;33m(\u001b[0m\u001b[0mortho_to_3bands\u001b[0m\u001b[1;33m(\u001b[0m\u001b[0mf\u001b[0m\u001b[1;33m)\u001b[0m\u001b[1;33m[\u001b[0m\u001b[1;36m2\u001b[0m\u001b[1;33m]\u001b[0m\u001b[1;33m)\u001b[0m\u001b[1;33m\u001b[0m\u001b[1;33m\u001b[0m\u001b[0m\n",
      "\u001b[1;32m<ipython-input-15-5fb06ad06521>\u001b[0m in \u001b[0;36mortho_to_3bands\u001b[1;34m(path_to_img)\u001b[0m\n\u001b[0;32m      7\u001b[0m \u001b[1;32mdef\u001b[0m \u001b[0mortho_to_3bands\u001b[0m\u001b[1;33m(\u001b[0m\u001b[0mpath_to_img\u001b[0m\u001b[1;33m)\u001b[0m\u001b[1;33m:\u001b[0m\u001b[1;33m\u001b[0m\u001b[1;33m\u001b[0m\u001b[0m\n\u001b[0;32m      8\u001b[0m     \u001b[1;32mwith\u001b[0m \u001b[0mrasterio\u001b[0m\u001b[1;33m.\u001b[0m\u001b[0mopen\u001b[0m\u001b[1;33m(\u001b[0m\u001b[0mpath_to_img\u001b[0m\u001b[1;33m,\u001b[0m \u001b[1;34m\"r\"\u001b[0m\u001b[1;33m)\u001b[0m \u001b[1;32mas\u001b[0m \u001b[0mimg\u001b[0m\u001b[1;33m:\u001b[0m\u001b[1;33m\u001b[0m\u001b[1;33m\u001b[0m\u001b[0m\n\u001b[1;32m----> 9\u001b[1;33m         \u001b[1;32mreturn\u001b[0m \u001b[0mimg\u001b[0m\u001b[1;33m.\u001b[0m\u001b[0mread\u001b[0m\u001b[1;33m(\u001b[0m\u001b[1;36m1\u001b[0m\u001b[1;33m)\u001b[0m\u001b[1;33m.\u001b[0m\u001b[0mastype\u001b[0m\u001b[1;33m(\u001b[0m\u001b[0mnp\u001b[0m\u001b[1;33m.\u001b[0m\u001b[0mfloat32\u001b[0m\u001b[1;33m)\u001b[0m\u001b[1;33m,\u001b[0m\u001b[0mimg\u001b[0m\u001b[1;33m.\u001b[0m\u001b[0mread\u001b[0m\u001b[1;33m(\u001b[0m\u001b[1;36m2\u001b[0m\u001b[1;33m)\u001b[0m\u001b[1;33m.\u001b[0m\u001b[0mastype\u001b[0m\u001b[1;33m(\u001b[0m\u001b[0mnp\u001b[0m\u001b[1;33m.\u001b[0m\u001b[0mfloat32\u001b[0m\u001b[1;33m)\u001b[0m\u001b[1;33m,\u001b[0m\u001b[0mimg\u001b[0m\u001b[1;33m.\u001b[0m\u001b[0mread\u001b[0m\u001b[1;33m(\u001b[0m\u001b[1;36m3\u001b[0m\u001b[1;33m)\u001b[0m\u001b[1;33m.\u001b[0m\u001b[0mastype\u001b[0m\u001b[1;33m(\u001b[0m\u001b[0mnp\u001b[0m\u001b[1;33m.\u001b[0m\u001b[0mfloat32\u001b[0m\u001b[1;33m)\u001b[0m\u001b[1;33m\u001b[0m\u001b[1;33m\u001b[0m\u001b[0m\n\u001b[0m\u001b[0;32m     10\u001b[0m \u001b[1;33m\u001b[0m\u001b[0m\n",
      "\u001b[1;31mMemoryError\u001b[0m: Unable to allocate 7.33 GiB for an array with shape (45000, 43750) and data type float32"
     ]
    }
   ],
   "source": [
    "##################### Bänder Einlesen #####################\n",
    "bands = []\n",
    "for f in path_rgb_img.glob(\"*tif\"):\n",
    "    #print(f) #sollte hier alle benötigten Bänder ausdrücke werden\n",
    "    bands.append(ortho_to_3bands(f)[0])\n",
    "    bands.append(ortho_to_3bands(f)[1])\n",
    "    bands.append(ortho_to_3bands(f)[2])\n",
    "\n",
    "# for f in path_cir_img.glob(\"*tif\"):\n",
    "#     #print(f) #sollte hier alle benötigten Bänder ausdrücke werden\n",
    "#     bands.append(ortho_to_3bands(f)[0])\n",
    "#     bands.append(ortho_to_3bands(f)[1])\n",
    "#     bands.append(ortho_to_3bands(f)[2])\n",
    "#print(bands)\n",
    "#Stapelt Bänder\n",
    "bands = np.dstack(bands)\n",
    "print(bands.shape) #  Gibt Reihen, Spalten, Kanäle aus."
   ]
  },
  {
   "cell_type": "code",
   "execution_count": 12,
   "id": "quantitative-shark",
   "metadata": {},
   "outputs": [
    {
     "name": "stdout",
     "output_type": "stream",
     "text": [
      "(45000, 43750)\n",
      "(array([-1.,  0.,  1.,  2.,  4.,  5.], dtype=float32), array([1960996269,    2063096,    5546006,      34338,      19048,\n",
      "            91243], dtype=int64))\n",
      "(7753731,)\n"
     ]
    }
   ],
   "source": [
    "# read training/test data\n",
    "# just for reference\n",
    "mapping = {\n",
    "    0: \"Wiese\",\n",
    "    1: \"Wald\",\n",
    "    2: \"Fels\",\n",
    "    3: \"Schnee und Eis\",\n",
    "    4: \"Straße\",\n",
    "    5: \"Wasser\"\n",
    "}\n",
    "labels = read_img(path_raster_mask)\n",
    "\n",
    "print(labels.shape)\n",
    "print(np.unique(labels, return_counts=True))\n",
    "\n",
    "\n",
    "# reshape training test data \n",
    "labels_1d = labels[labels>=0].reshape((-1))\n",
    "print(labels_1d.shape)\n",
    "\n",
    "\n",
    "# split into \n",
    "X_train, X_test, y_train, y_test = train_test_split(bands[labels>=0,:], labels_1d, test_size=0.3, random_state=0, shuffle=True)\n",
    "\n",
    "# instantiate classificator\n",
    "estimatorList = [2] # Hier können mehr werte eingegeben werden um zu vergleichen "
   ]
  },
  {
   "cell_type": "code",
   "execution_count": 11,
   "id": "corporate-brook",
   "metadata": {},
   "outputs": [
    {
     "name": "stdout",
     "output_type": "stream",
     "text": [
      "training model...\n"
     ]
    },
    {
     "name": "stderr",
     "output_type": "stream",
     "text": [
      "C:\\Users\\ronny\\.conda\\envs\\rs\\lib\\site-packages\\sklearn\\ensemble\\_forest.py:541: UserWarning: Some inputs do not have OOB scores. This probably means too few trees were used to compute any reliable oob estimates.\n",
      "  warn(\"Some inputs do not have OOB scores. \"\n",
      "C:\\Users\\ronny\\.conda\\envs\\rs\\lib\\site-packages\\sklearn\\ensemble\\_forest.py:546: RuntimeWarning: invalid value encountered in true_divide\n",
      "  predictions[k].sum(axis=1)[:, np.newaxis])\n"
     ]
    },
    {
     "name": "stdout",
     "output_type": "stream",
     "text": [
      "####################### D:\\_Programmieren\\Landcover\\RGB\\2018_v\\2121-11_201807.tif\n",
      "2121-11_201807\n",
      "(5000, 6250, 3)\n",
      "Estimators: 2 done.\n",
      "####################### D:\\_Programmieren\\Landcover\\RGB\\2018_v\\2121-18_201807.tif\n",
      "2121-18_201807\n",
      "(5000, 6250, 3)\n",
      "Estimators: 2 done.\n",
      "####################### D:\\_Programmieren\\Landcover\\RGB\\2018_v\\2121-26_201807.tif\n",
      "2121-26_201807\n",
      "(5000, 6250, 3)\n",
      "Estimators: 2 done.\n",
      "Finished.\n"
     ]
    }
   ],
   "source": [
    "for estimator in estimatorList:\n",
    "    \n",
    "    rf = RF(n_estimators=estimator, n_jobs=-1, oob_score=True)\n",
    "\n",
    "    # train our model\n",
    "    print(\"training model...\")\n",
    "    rf.fit(X_train, y_train)\n",
    "\n",
    "    #############################################################################\n",
    "    ################## Versuch auf fremden Daten anzuwenden #####################\n",
    "    #############################################################################\n",
    "    test_rgb_img = Path(os.path.join(dirname, 'RGB\\\\2018_v'))\n",
    "    test_cir_img = Path(os.path.join(dirname, 'CIR_all\\\\2018_v'))\n",
    "\n",
    "    for fObj in test_rgb_img.glob(\"*tif\"): #jede datei in besagtem ordner\n",
    "        print(\"#######################\",fObj)\n",
    "        print(Path(fObj).stem)\n",
    "        rgbP = str(test_rgb_img)+\"\\\\\"+str(Path(fObj).stem)+\".tif\"\n",
    "        cirP = str(test_cir_img)+\"\\\\\"+str(Path(fObj).stem)+\".tif\"\n",
    "        bandsTest = []\n",
    "        bandsTest.append(ortho_to_3bands(rgbP)[0])\n",
    "        bandsTest.append(ortho_to_3bands(rgbP)[1])\n",
    "        bandsTest.append(ortho_to_3bands(rgbP)[2])\n",
    "\n",
    "        #print(f) #sollte hier alle benötigten Bänder ausdrücke werden\n",
    "        # bandsTest.append(ortho_to_3bands(cirP)[0])\n",
    "        # bandsTest.append(ortho_to_3bands(cirP)[1])\n",
    "        # bandsTest.append(ortho_to_3bands(cirP)[2])\n",
    "        bandsTest = np.dstack(bandsTest)\n",
    "        print(bandsTest.shape)\n",
    "        #############################################################################\n",
    "        #############################################################################\n",
    "        #############################################################################\n",
    "\n",
    "        # extract information for reshaping\n",
    "        rows, cols, n_bands = bandsTest.shape\n",
    "        \n",
    "\n",
    "\n",
    "        # transform input data into 2d array of shape \n",
    "        X_predict = bandsTest.reshape((rows*cols, n_bands))\n",
    "\n",
    "\n",
    "        # apply our model on (unseen) data\n",
    "        y_pred = rf.predict(X_predict)\n",
    "\n",
    "        # reshape to shape of (rows, cols) for output as 2d gis raster\n",
    "        y_pred_2d = y_pred.reshape((rows, cols))\n",
    "\n",
    "\n",
    "        template = {}\n",
    "        with rasterio.open(fObj, \"r\") as img:\n",
    "            template[\"transform\"] = img.transform\n",
    "            template[\"crs\"] = img.crs\n",
    "            template[\"height\"] = img.height\n",
    "            template[\"width\"] = img.width\n",
    "\n",
    "        with rasterio.open(\n",
    "            dirname+\"\\\\results\\\\testMultiple\\\\prediction_nE_\"+str(estimator)+str(Path(fObj).stem)+\".tif\",\n",
    "            \"w\",\n",
    "            driver=\"GTiff\",\n",
    "            height=y_pred_2d.shape[0],\n",
    "            width=y_pred_2d.shape[1],\n",
    "            count=1,\n",
    "            dtype=y_pred_2d.dtype,\n",
    "            crs=template[\"crs\"],\n",
    "            transform=template[\"transform\"]) as fobj:\n",
    "            fobj.write(y_pred_2d, 1)\n",
    "        print(\"Estimators: \"+str(estimator)+\" done.\")\n",
    "print(\"Finished.\")"
   ]
  },
  {
   "cell_type": "code",
   "execution_count": null,
   "id": "owned-spirit",
   "metadata": {},
   "outputs": [],
   "source": []
  },
  {
   "cell_type": "code",
   "execution_count": null,
   "id": "homeless-wings",
   "metadata": {},
   "outputs": [],
   "source": []
  },
  {
   "cell_type": "code",
   "execution_count": null,
   "id": "stone-corruption",
   "metadata": {},
   "outputs": [],
   "source": []
  }
 ],
 "metadata": {
  "kernelspec": {
   "display_name": "Python 3",
   "language": "python",
   "name": "python3"
  },
  "language_info": {
   "codemirror_mode": {
    "name": "ipython",
    "version": 3
   },
   "file_extension": ".py",
   "mimetype": "text/x-python",
   "name": "python",
   "nbconvert_exporter": "python",
   "pygments_lexer": "ipython3",
   "version": "3.7.10"
  }
 },
 "nbformat": 4,
 "nbformat_minor": 5
}
